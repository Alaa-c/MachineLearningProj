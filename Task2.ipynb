{
 "cells": [
  {
   "cell_type": "code",
   "execution_count": 1,
   "id": "300053dc",
   "metadata": {},
   "outputs": [],
   "source": [
    "from sklearn.datasets import load_breast_cancer\n",
    "from sklearn.linear_model import LogisticRegression\n",
    "from sklearn.metrics import accuracy_score\n",
    "import matplotlib.pyplot as plt\n",
    "import numpy as np\n",
    "from sklearn.preprocessing import StandardScaler\n",
    "from sklearn.model_selection import train_test_split\n",
    "import pandas as pd\n",
    "\n"
   ]
  },
  {
   "cell_type": "markdown",
   "id": "f81e94f7",
   "metadata": {},
   "source": [
    "# load data"
   ]
  },
  {
   "cell_type": "code",
   "execution_count": 2,
   "id": "12ed90c6",
   "metadata": {},
   "outputs": [
    {
     "data": {
      "text/html": [
       "<div>\n",
       "<style scoped>\n",
       "    .dataframe tbody tr th:only-of-type {\n",
       "        vertical-align: middle;\n",
       "    }\n",
       "\n",
       "    .dataframe tbody tr th {\n",
       "        vertical-align: top;\n",
       "    }\n",
       "\n",
       "    .dataframe thead th {\n",
       "        text-align: right;\n",
       "    }\n",
       "</style>\n",
       "<table border=\"1\" class=\"dataframe\">\n",
       "  <thead>\n",
       "    <tr style=\"text-align: right;\">\n",
       "      <th></th>\n",
       "      <th>mean radius</th>\n",
       "      <th>mean texture</th>\n",
       "      <th>mean perimeter</th>\n",
       "      <th>mean area</th>\n",
       "      <th>mean smoothness</th>\n",
       "      <th>mean compactness</th>\n",
       "      <th>mean concavity</th>\n",
       "      <th>mean concave points</th>\n",
       "      <th>mean symmetry</th>\n",
       "      <th>mean fractal dimension</th>\n",
       "      <th>...</th>\n",
       "      <th>worst radius</th>\n",
       "      <th>worst texture</th>\n",
       "      <th>worst perimeter</th>\n",
       "      <th>worst area</th>\n",
       "      <th>worst smoothness</th>\n",
       "      <th>worst compactness</th>\n",
       "      <th>worst concavity</th>\n",
       "      <th>worst concave points</th>\n",
       "      <th>worst symmetry</th>\n",
       "      <th>worst fractal dimension</th>\n",
       "    </tr>\n",
       "  </thead>\n",
       "  <tbody>\n",
       "    <tr>\n",
       "      <th>0</th>\n",
       "      <td>17.99</td>\n",
       "      <td>10.38</td>\n",
       "      <td>122.80</td>\n",
       "      <td>1001.0</td>\n",
       "      <td>0.11840</td>\n",
       "      <td>0.27760</td>\n",
       "      <td>0.3001</td>\n",
       "      <td>0.14710</td>\n",
       "      <td>0.2419</td>\n",
       "      <td>0.07871</td>\n",
       "      <td>...</td>\n",
       "      <td>25.38</td>\n",
       "      <td>17.33</td>\n",
       "      <td>184.60</td>\n",
       "      <td>2019.0</td>\n",
       "      <td>0.1622</td>\n",
       "      <td>0.6656</td>\n",
       "      <td>0.7119</td>\n",
       "      <td>0.2654</td>\n",
       "      <td>0.4601</td>\n",
       "      <td>0.11890</td>\n",
       "    </tr>\n",
       "    <tr>\n",
       "      <th>1</th>\n",
       "      <td>20.57</td>\n",
       "      <td>17.77</td>\n",
       "      <td>132.90</td>\n",
       "      <td>1326.0</td>\n",
       "      <td>0.08474</td>\n",
       "      <td>0.07864</td>\n",
       "      <td>0.0869</td>\n",
       "      <td>0.07017</td>\n",
       "      <td>0.1812</td>\n",
       "      <td>0.05667</td>\n",
       "      <td>...</td>\n",
       "      <td>24.99</td>\n",
       "      <td>23.41</td>\n",
       "      <td>158.80</td>\n",
       "      <td>1956.0</td>\n",
       "      <td>0.1238</td>\n",
       "      <td>0.1866</td>\n",
       "      <td>0.2416</td>\n",
       "      <td>0.1860</td>\n",
       "      <td>0.2750</td>\n",
       "      <td>0.08902</td>\n",
       "    </tr>\n",
       "    <tr>\n",
       "      <th>2</th>\n",
       "      <td>19.69</td>\n",
       "      <td>21.25</td>\n",
       "      <td>130.00</td>\n",
       "      <td>1203.0</td>\n",
       "      <td>0.10960</td>\n",
       "      <td>0.15990</td>\n",
       "      <td>0.1974</td>\n",
       "      <td>0.12790</td>\n",
       "      <td>0.2069</td>\n",
       "      <td>0.05999</td>\n",
       "      <td>...</td>\n",
       "      <td>23.57</td>\n",
       "      <td>25.53</td>\n",
       "      <td>152.50</td>\n",
       "      <td>1709.0</td>\n",
       "      <td>0.1444</td>\n",
       "      <td>0.4245</td>\n",
       "      <td>0.4504</td>\n",
       "      <td>0.2430</td>\n",
       "      <td>0.3613</td>\n",
       "      <td>0.08758</td>\n",
       "    </tr>\n",
       "    <tr>\n",
       "      <th>3</th>\n",
       "      <td>11.42</td>\n",
       "      <td>20.38</td>\n",
       "      <td>77.58</td>\n",
       "      <td>386.1</td>\n",
       "      <td>0.14250</td>\n",
       "      <td>0.28390</td>\n",
       "      <td>0.2414</td>\n",
       "      <td>0.10520</td>\n",
       "      <td>0.2597</td>\n",
       "      <td>0.09744</td>\n",
       "      <td>...</td>\n",
       "      <td>14.91</td>\n",
       "      <td>26.50</td>\n",
       "      <td>98.87</td>\n",
       "      <td>567.7</td>\n",
       "      <td>0.2098</td>\n",
       "      <td>0.8663</td>\n",
       "      <td>0.6869</td>\n",
       "      <td>0.2575</td>\n",
       "      <td>0.6638</td>\n",
       "      <td>0.17300</td>\n",
       "    </tr>\n",
       "    <tr>\n",
       "      <th>4</th>\n",
       "      <td>20.29</td>\n",
       "      <td>14.34</td>\n",
       "      <td>135.10</td>\n",
       "      <td>1297.0</td>\n",
       "      <td>0.10030</td>\n",
       "      <td>0.13280</td>\n",
       "      <td>0.1980</td>\n",
       "      <td>0.10430</td>\n",
       "      <td>0.1809</td>\n",
       "      <td>0.05883</td>\n",
       "      <td>...</td>\n",
       "      <td>22.54</td>\n",
       "      <td>16.67</td>\n",
       "      <td>152.20</td>\n",
       "      <td>1575.0</td>\n",
       "      <td>0.1374</td>\n",
       "      <td>0.2050</td>\n",
       "      <td>0.4000</td>\n",
       "      <td>0.1625</td>\n",
       "      <td>0.2364</td>\n",
       "      <td>0.07678</td>\n",
       "    </tr>\n",
       "  </tbody>\n",
       "</table>\n",
       "<p>5 rows × 30 columns</p>\n",
       "</div>"
      ],
      "text/plain": [
       "   mean radius  mean texture  mean perimeter  mean area  mean smoothness  \\\n",
       "0        17.99         10.38          122.80     1001.0          0.11840   \n",
       "1        20.57         17.77          132.90     1326.0          0.08474   \n",
       "2        19.69         21.25          130.00     1203.0          0.10960   \n",
       "3        11.42         20.38           77.58      386.1          0.14250   \n",
       "4        20.29         14.34          135.10     1297.0          0.10030   \n",
       "\n",
       "   mean compactness  mean concavity  mean concave points  mean symmetry  \\\n",
       "0           0.27760          0.3001              0.14710         0.2419   \n",
       "1           0.07864          0.0869              0.07017         0.1812   \n",
       "2           0.15990          0.1974              0.12790         0.2069   \n",
       "3           0.28390          0.2414              0.10520         0.2597   \n",
       "4           0.13280          0.1980              0.10430         0.1809   \n",
       "\n",
       "   mean fractal dimension  ...  worst radius  worst texture  worst perimeter  \\\n",
       "0                 0.07871  ...         25.38          17.33           184.60   \n",
       "1                 0.05667  ...         24.99          23.41           158.80   \n",
       "2                 0.05999  ...         23.57          25.53           152.50   \n",
       "3                 0.09744  ...         14.91          26.50            98.87   \n",
       "4                 0.05883  ...         22.54          16.67           152.20   \n",
       "\n",
       "   worst area  worst smoothness  worst compactness  worst concavity  \\\n",
       "0      2019.0            0.1622             0.6656           0.7119   \n",
       "1      1956.0            0.1238             0.1866           0.2416   \n",
       "2      1709.0            0.1444             0.4245           0.4504   \n",
       "3       567.7            0.2098             0.8663           0.6869   \n",
       "4      1575.0            0.1374             0.2050           0.4000   \n",
       "\n",
       "   worst concave points  worst symmetry  worst fractal dimension  \n",
       "0                0.2654          0.4601                  0.11890  \n",
       "1                0.1860          0.2750                  0.08902  \n",
       "2                0.2430          0.3613                  0.08758  \n",
       "3                0.2575          0.6638                  0.17300  \n",
       "4                0.1625          0.2364                  0.07678  \n",
       "\n",
       "[5 rows x 30 columns]"
      ]
     },
     "execution_count": 2,
     "metadata": {},
     "output_type": "execute_result"
    }
   ],
   "source": [
    "df=load_breast_cancer(as_frame=True,return_X_y=True) #returns df\n",
    "data=df[0]\n",
    "target=df[1]\n",
    "data.head()\n"
   ]
  },
  {
   "cell_type": "code",
   "execution_count": null,
   "id": "4bbc0e4b",
   "metadata": {},
   "outputs": [],
   "source": []
  },
  {
   "cell_type": "code",
   "execution_count": 3,
   "id": "7d885e07",
   "metadata": {},
   "outputs": [
    {
     "data": {
      "text/plain": [
       "mean radius                0\n",
       "mean texture               0\n",
       "mean perimeter             0\n",
       "mean area                  0\n",
       "mean smoothness            0\n",
       "mean compactness           0\n",
       "mean concavity             0\n",
       "mean concave points        0\n",
       "mean symmetry              0\n",
       "mean fractal dimension     0\n",
       "radius error               0\n",
       "texture error              0\n",
       "perimeter error            0\n",
       "area error                 0\n",
       "smoothness error           0\n",
       "compactness error          0\n",
       "concavity error            0\n",
       "concave points error       0\n",
       "symmetry error             0\n",
       "fractal dimension error    0\n",
       "worst radius               0\n",
       "worst texture              0\n",
       "worst perimeter            0\n",
       "worst area                 0\n",
       "worst smoothness           0\n",
       "worst compactness          0\n",
       "worst concavity            0\n",
       "worst concave points       0\n",
       "worst symmetry             0\n",
       "worst fractal dimension    0\n",
       "dtype: int64"
      ]
     },
     "execution_count": 3,
     "metadata": {},
     "output_type": "execute_result"
    }
   ],
   "source": [
    "#check null values\n",
    "data.isna().sum()"
   ]
  },
  {
   "cell_type": "code",
   "execution_count": 4,
   "id": "acdc5fd0",
   "metadata": {},
   "outputs": [
    {
     "data": {
      "text/plain": [
       "mean radius                  28.11000\n",
       "mean texture                 39.28000\n",
       "mean perimeter              188.50000\n",
       "mean area                  2501.00000\n",
       "mean smoothness               0.16340\n",
       "mean compactness              0.34540\n",
       "mean concavity                0.42680\n",
       "mean concave points           0.20120\n",
       "mean symmetry                 0.30400\n",
       "mean fractal dimension        0.09744\n",
       "radius error                  2.87300\n",
       "texture error                 4.88500\n",
       "perimeter error              21.98000\n",
       "area error                  542.20000\n",
       "smoothness error              0.03113\n",
       "compactness error             0.13540\n",
       "concavity error               0.39600\n",
       "concave points error          0.05279\n",
       "symmetry error                0.07895\n",
       "fractal dimension error       0.02984\n",
       "worst radius                 36.04000\n",
       "worst texture                49.54000\n",
       "worst perimeter             251.20000\n",
       "worst area                 4254.00000\n",
       "worst smoothness              0.22260\n",
       "worst compactness             1.05800\n",
       "worst concavity               1.25200\n",
       "worst concave points          0.29100\n",
       "worst symmetry                0.66380\n",
       "worst fractal dimension       0.20750\n",
       "dtype: float64"
      ]
     },
     "execution_count": 4,
     "metadata": {},
     "output_type": "execute_result"
    }
   ],
   "source": [
    "np.max(data)"
   ]
  },
  {
   "cell_type": "markdown",
   "id": "2f480211",
   "metadata": {},
   "source": [
    "# split data"
   ]
  },
  {
   "cell_type": "code",
   "execution_count": 5,
   "id": "95ba984e",
   "metadata": {},
   "outputs": [
    {
     "data": {
      "text/plain": [
       "(569, 31)"
      ]
     },
     "execution_count": 5,
     "metadata": {},
     "output_type": "execute_result"
    }
   ],
   "source": [
    "#append bias\n",
    "data =np.array(data)\n",
    "m=data.shape[0]\n",
    "data=np.append(np.ones((m,1)),data,axis=1)\n",
    "data.shape"
   ]
  },
  {
   "cell_type": "code",
   "execution_count": 6,
   "id": "1de66dcb",
   "metadata": {},
   "outputs": [
    {
     "name": "stdout",
     "output_type": "stream",
     "text": [
      "x train:  (398, 31)\n",
      "x test:  (171, 31)\n",
      "y train:  (398, 1)\n",
      "y test:  (171, 1)\n"
     ]
    }
   ],
   "source": [
    "x_train,x_test,y_train,y_test=train_test_split(data,target,test_size=0.3,stratify=target,random_state=42)\n",
    "\n",
    "#reshape label vectors\n",
    "y_train = np.array(y_train).reshape(-1,1)\n",
    "y_test = np.array(y_test).reshape(-1,1)\n",
    " \n",
    "print(\"x train: \", x_train.shape)\n",
    "print(\"x test: \", x_test.shape)\n",
    "print(\"y train: \", y_train.shape)\n",
    "print(\"y test: \", y_test.shape)"
   ]
  },
  {
   "cell_type": "markdown",
   "id": "8ef2b106",
   "metadata": {},
   "source": [
    "# normalize numeric data and map binary target"
   ]
  },
  {
   "cell_type": "code",
   "execution_count": 7,
   "id": "44765d4f",
   "metadata": {},
   "outputs": [
    {
     "data": {
      "text/plain": [
       "array([[ 0.        , -0.70982078, -0.258417  , ...,  0.40093281,\n",
       "        -0.41407439,  0.44522333],\n",
       "       [ 0.        , -0.83033136,  2.2311266 , ..., -1.69278836,\n",
       "        -2.09572345, -1.32341746],\n",
       "       [ 0.        , -1.01109725, -0.22726989, ..., -1.36423974,\n",
       "        -0.35412529, -0.88664465],\n",
       "       ...,\n",
       "       [ 0.        , -0.12735293, -1.37526319, ..., -0.50161479,\n",
       "        -0.84447817,  0.15509266],\n",
       "       [ 0.        ,  0.84820898, -0.05818561, ...,  2.06733377,\n",
       "         0.27610881,  0.33537313],\n",
       "       [ 0.        , -1.20219261, -0.28511452, ..., -0.22747926,\n",
       "        -0.48478358,  1.68038109]])"
      ]
     },
     "execution_count": 7,
     "metadata": {},
     "output_type": "execute_result"
    }
   ],
   "source": [
    "stand=StandardScaler()\n",
    "x_train=stand.fit_transform(x_train)\n",
    "x_test=stand.transform(x_test)\n",
    "x_train "
   ]
  },
  {
   "cell_type": "code",
   "execution_count": null,
   "id": "2badc96a",
   "metadata": {},
   "outputs": [],
   "source": []
  },
  {
   "cell_type": "markdown",
   "id": "efde2ebb",
   "metadata": {},
   "source": [
    "# perfrom steps of gradient"
   ]
  },
  {
   "cell_type": "code",
   "execution_count": 8,
   "id": "52826b0d",
   "metadata": {},
   "outputs": [],
   "source": [
    "def hypothesis(x,wvector):\n",
    "    h=x@wvector\n",
    "    return h"
   ]
  },
  {
   "cell_type": "code",
   "execution_count": 9,
   "id": "bf596bf5",
   "metadata": {},
   "outputs": [],
   "source": [
    "def sigmoid(x):\n",
    "    z=1/(1+np.e**(-x))\n",
    "    return z"
   ]
  },
  {
   "cell_type": "code",
   "execution_count": 10,
   "id": "b0873721",
   "metadata": {},
   "outputs": [],
   "source": [
    "def forward(x_train,y_train,ysig): #compute loss \n",
    "   \n",
    "    loss=-y_train*np.log(ysig)-(1-y_train)*np.log(1-ysig)\n",
    "    cost= (np.sum(loss)) / x_train.shape[0] \n",
    "    return cost"
   ]
  },
  {
   "cell_type": "code",
   "execution_count": 20,
   "id": "91feffc4",
   "metadata": {},
   "outputs": [],
   "source": [
    "def back(x_train,y_train,ysig):#compute gradients,(1/(x_train).shape[0]) *\n",
    "   \n",
    "    gradients = x_train.T@(ysig-y_train)\n",
    "    return gradients"
   ]
  },
  {
   "cell_type": "code",
   "execution_count": 12,
   "id": "74cd6ea5",
   "metadata": {},
   "outputs": [],
   "source": [
    "def update(x_train,y_train,lr,itera):#update parameters\n",
    "    error=[]\n",
    "    saved_y=np.zeros(len(x_train),) #save y_predit\n",
    "    \n",
    "    m=x_train.shape[1] #no of features\n",
    "    \n",
    "    thetavect=np.full((m,1),0.01) #initialize weights\n",
    "    \n",
    "    for i in range(0,itera):\n",
    "        z=hypothesis(x_train,thetavect)\n",
    "        ysig=sigmoid(z)\n",
    "        #print(ysig)\n",
    "        cost=forward(x_train,y_train,ysig)\n",
    "        gradients=back(x_train,y_train,ysig)\n",
    "        thetavect -= lr*gradients\n",
    "        \n",
    "        error.append(cost)\n",
    "        \n",
    "        \n",
    "    return thetavect,error"
   ]
  },
  {
   "cell_type": "markdown",
   "id": "6441da7d",
   "metadata": {},
   "source": [
    "# create decision function"
   ]
  },
  {
   "cell_type": "code",
   "execution_count": 17,
   "id": "4bf3a85f",
   "metadata": {},
   "outputs": [],
   "source": [
    "def predict(thetas, x_test):\n",
    "    # x_test is a input for forward propagation\n",
    "    \n",
    "    f=hypothesis(x_test,thetas)\n",
    "    z = sigmoid(f)\n",
    "    Y_prediction = []\n",
    "    \n",
    "    # if z is bigger than 0.5, our prediction is sign one (y_pred = 1),\n",
    "    # if z is smaller than 0.5, our prediction is sign zero (y_pred = 0)\n",
    "    \n",
    "    for i in range(z.shape[0]):\n",
    "        if z[i]<= 0.5:\n",
    "            Y_prediction.append(0)\n",
    "        else:\n",
    "            Y_prediction.append(1)\n",
    "    return Y_prediction"
   ]
  },
  {
   "cell_type": "code",
   "execution_count": 14,
   "id": "03e58814",
   "metadata": {},
   "outputs": [],
   "source": [
    "\n",
    "def log_regression(x_train, y_train, x_test, y_test,lr,itera):\n",
    "     \n",
    "    parameters, cost_list = update(x_train, y_train, lr, itera) #train the model\n",
    "     \n",
    "    y_prediction_test = predict(parameters, x_test) #test the model on training and testing data\n",
    "    y_prediction_train = predict(parameters, x_train)\n",
    "    \n",
    "    #compute accuracy\n",
    "    print(f'''trainAcc={accuracy_score(y_train,y_prediction_train)},\n",
    "              testAcc={accuracy_score(y_test,y_prediction_test)}''')\n",
    "     \n"
   ]
  },
  {
   "cell_type": "markdown",
   "id": "18e74e27",
   "metadata": {},
   "source": [
    "# test the code"
   ]
  },
  {
   "cell_type": "code",
   "execution_count": 21,
   "id": "e59d0760",
   "metadata": {},
   "outputs": [
    {
     "name": "stdout",
     "output_type": "stream",
     "text": [
      "trainAcc=0.9899497487437185,\n",
      "              testAcc=0.9766081871345029\n"
     ]
    }
   ],
   "source": [
    "log_regression(x_train, y_train, x_test,y_test, lr = 0.01, itera = 150)"
   ]
  },
  {
   "cell_type": "markdown",
   "id": "72431a67",
   "metadata": {},
   "source": [
    "# comparing to logreg"
   ]
  },
  {
   "cell_type": "code",
   "execution_count": 16,
   "id": "e47ded8b",
   "metadata": {},
   "outputs": [
    {
     "name": "stdout",
     "output_type": "stream",
     "text": [
      "test accuracy: 0.9883040935672515 \n",
      "train accuracy: 0.9874371859296482 \n"
     ]
    },
    {
     "name": "stderr",
     "output_type": "stream",
     "text": [
      "E:\\anaconda\\lib\\site-packages\\sklearn\\utils\\validation.py:63: DataConversionWarning: A column-vector y was passed when a 1d array was expected. Please change the shape of y to (n_samples, ), for example using ravel().\n",
      "  return f(*args, **kwargs)\n",
      "E:\\anaconda\\lib\\site-packages\\sklearn\\utils\\validation.py:63: DataConversionWarning: A column-vector y was passed when a 1d array was expected. Please change the shape of y to (n_samples, ), for example using ravel().\n",
      "  return f(*args, **kwargs)\n"
     ]
    }
   ],
   "source": [
    "logreg = LogisticRegression(random_state = 42, max_iter = 150)\n",
    "print(\"test accuracy: {} \".format(\n",
    "    logreg.fit(x_train, y_train).score(x_test, y_test)))\n",
    "print(\"train accuracy: {} \".format(\n",
    "    logreg.fit(x_train, y_train).score(x_train, y_train)))"
   ]
  },
  {
   "cell_type": "code",
   "execution_count": null,
   "id": "11c281d9",
   "metadata": {},
   "outputs": [],
   "source": []
  }
 ],
 "metadata": {
  "kernelspec": {
   "display_name": "Python 3 (ipykernel)",
   "language": "python",
   "name": "python3"
  },
  "language_info": {
   "codemirror_mode": {
    "name": "ipython",
    "version": 3
   },
   "file_extension": ".py",
   "mimetype": "text/x-python",
   "name": "python",
   "nbconvert_exporter": "python",
   "pygments_lexer": "ipython3",
   "version": "3.9.7"
  }
 },
 "nbformat": 4,
 "nbformat_minor": 5
}
