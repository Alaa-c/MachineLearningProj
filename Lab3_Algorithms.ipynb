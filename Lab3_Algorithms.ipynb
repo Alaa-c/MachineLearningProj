{
 "cells": [
  {
   "cell_type": "code",
   "execution_count": null,
   "id": "ad229467",
   "metadata": {},
   "outputs": [],
   "source": [
    "!pip install ipynb"
   ]
  },
  {
   "cell_type": "code",
   "execution_count": 12,
   "id": "3a6f1b6f",
   "metadata": {},
   "outputs": [
    {
     "data": {
      "text/html": [
       "<div>\n",
       "<style scoped>\n",
       "    .dataframe tbody tr th:only-of-type {\n",
       "        vertical-align: middle;\n",
       "    }\n",
       "\n",
       "    .dataframe tbody tr th {\n",
       "        vertical-align: top;\n",
       "    }\n",
       "\n",
       "    .dataframe thead th {\n",
       "        text-align: right;\n",
       "    }\n",
       "</style>\n",
       "<table border=\"1\" class=\"dataframe\">\n",
       "  <thead>\n",
       "    <tr style=\"text-align: right;\">\n",
       "      <th></th>\n",
       "      <th>profit</th>\n",
       "      <th>weight</th>\n",
       "    </tr>\n",
       "    <tr>\n",
       "      <th>object</th>\n",
       "      <th></th>\n",
       "      <th></th>\n",
       "    </tr>\n",
       "  </thead>\n",
       "  <tbody>\n",
       "    <tr>\n",
       "      <th>1</th>\n",
       "      <td>5</td>\n",
       "      <td>1</td>\n",
       "    </tr>\n",
       "    <tr>\n",
       "      <th>2</th>\n",
       "      <td>10</td>\n",
       "      <td>3</td>\n",
       "    </tr>\n",
       "    <tr>\n",
       "      <th>3</th>\n",
       "      <td>15</td>\n",
       "      <td>5</td>\n",
       "    </tr>\n",
       "    <tr>\n",
       "      <th>4</th>\n",
       "      <td>7</td>\n",
       "      <td>4</td>\n",
       "    </tr>\n",
       "    <tr>\n",
       "      <th>5</th>\n",
       "      <td>8</td>\n",
       "      <td>1</td>\n",
       "    </tr>\n",
       "  </tbody>\n",
       "</table>\n",
       "</div>"
      ],
      "text/plain": [
       "        profit  weight\n",
       "object                \n",
       "1            5       1\n",
       "2           10       3\n",
       "3           15       5\n",
       "4            7       4\n",
       "5            8       1"
      ]
     },
     "execution_count": 12,
     "metadata": {},
     "output_type": "execute_result"
    }
   ],
   "source": [
    "import pandas as pd\n",
    "import numpy as np\n",
    "import ipynb.fs.full.Quicksortdataframes as qs #import the quicksort fn written in another file\n",
    "inp=pd.read_csv(\"./Downloads/input.csv\",index_col=\"object\")\n",
    "inp.head()"
   ]
  },
  {
   "cell_type": "code",
   "execution_count": 29,
   "id": "3386aaa8",
   "metadata": {},
   "outputs": [],
   "source": [
    "#add a new column profit/weight\n",
    "inp[\"p/w\"]=inp[\"profit\"]/inp[\"weight\"]\n",
    "#opt_sorted=inp.sort_values(\"p/w\",ascending=False)\n",
    "#opt_sorted.head(6)"
   ]
  },
  {
   "cell_type": "code",
   "execution_count": 41,
   "id": "710378f0",
   "metadata": {},
   "outputs": [
    {
     "name": "stdout",
     "output_type": "stream",
     "text": [
      "enter the maximum weight  15\n",
      "1.Fraction Knapsack, 2. 0/1  knapsack ,3.Greedy 0/1 Knapsack 3\n"
     ]
    }
   ],
   "source": [
    "w_max=int(input(\"enter the maximum weight  \"))\n",
    "knapsack=int(input(\"1.Fraction Knapsack, 2. 0/1  knapsack ,3.Greedy 0/1 Knapsack \"))\n",
    "if knapsack!=3:\n",
    "    cost_fn=int(input(\"Choose the cost fn: 1.Min weight, 2.Max profit ,3.P/w  \"))\n",
    "    print(type(cost_fn))\n"
   ]
  },
  {
   "cell_type": "code",
   "execution_count": 44,
   "id": "25077e8e",
   "metadata": {},
   "outputs": [
    {
     "name": "stdout",
     "output_type": "stream",
     "text": [
      "total 51\n"
     ]
    }
   ],
   "source": [
    "#check the choices of cost fn\n",
    "if knapsack!=3:\n",
    "    if cost_fn==1: #weight\n",
    "        cost_fn=\"weight\"\n",
    "        asc=True\n",
    "    elif cost_fn==2:#profit\n",
    "        cost_fn=\"profit\"\n",
    "        asc=False\n",
    "    elif cost_fn==3:#pw\n",
    "        cost_fn=\"p/w\"\n",
    "        asc=False\n",
    "    else:\n",
    "        print(\"enter a valid no for costfn\")\n",
    "    \n",
    "#check fraction or 0/1\n",
    "if knapsack==1:\n",
    "    total=k_frac(w_max,cost_fn,asc)\n",
    "    print(f\"total {total}\")\n",
    "elif knapsack==2:\n",
    "    total=k_binary(w_max,cost_fn,asc)\n",
    "    print(f\"total {total}\")\n",
    "elif knapsack==3:\n",
    "    ip=inp.reset_index()\n",
    "    total=dpk(ip['profit'],ip['weight'],w_max)\n",
    "    print(f\"total {total}\")\n",
    "else:\n",
    "    knapsack=input(\"enter a valid no for knapsack \")\n",
    "    "
   ]
  },
  {
   "cell_type": "code",
   "execution_count": 35,
   "id": "d085456b",
   "metadata": {},
   "outputs": [],
   "source": [
    "#knapsack fraction\n",
    "def k_frac(w_max,cost_fn,asc):\n",
    "    total=0\n",
    "    remain=w_max\n",
    "    #sorted_ip=inp.sort_values(cost_fn,ascending=asc)\n",
    "    sorted_ip=inp\n",
    "    qs.quick_sort(sorted_ip,1,len(sorted_ip),asc,cost_fn)\n",
    "    if asc==False:\n",
    "        sorted_ip=sorted_ip.iloc[::-1]\n",
    "    print(sorted_ip.head(7))\n",
    "    for row in range(0,len(sorted_ip)):\n",
    "        weight=sorted_ip.iloc[row,1]\n",
    "        \n",
    "        if weight<=remain:\n",
    "            total+=sorted_ip.iloc[row,0]\n",
    "            remain-=weight\n",
    "            print(weight)\n",
    "        else:\n",
    "            total+=sorted_ip.iloc[row,0]*float(remain/weight)\n",
    "            remain=0\n",
    "           \n",
    "            \n",
    "    return total    \n",
    "    \n",
    "    "
   ]
  },
  {
   "cell_type": "code",
   "execution_count": 3,
   "id": "4ccea160",
   "metadata": {},
   "outputs": [],
   "source": [
    "#knapsack binary\n",
    "def k_binary(w_max,cost_fn,asc):\n",
    "    total=0\n",
    "    remain=w_max\n",
    "    #sorted_ip=inp.sort_values(cost_fn,ascending=asc)\n",
    "    sorted_ip=inp\n",
    "    qs.quick_sort(sorted_ip,1,len(sorted_ip),asc,cost_fn)\n",
    "    if asc==False:\n",
    "        sorted_ip=sorted_ip.iloc[::-1]\n",
    "    print(sorted_ip.head(7))\n",
    "    for row in range(0,len(sorted_ip)):\n",
    "        weight=sorted_ip.iloc[row,1]\n",
    "        \n",
    "        if weight<=remain:\n",
    "            total+=sorted_ip.iloc[row,0]\n",
    "            remain-=weight\n",
    "            print(weight)\n",
    "        else:\n",
    "             continue\n",
    "    return total\n",
    "    "
   ]
  },
  {
   "cell_type": "markdown",
   "id": "c9e9731e",
   "metadata": {},
   "source": [
    "##### "
   ]
  },
  {
   "cell_type": "code",
   "execution_count": 43,
   "id": "a0059b54",
   "metadata": {},
   "outputs": [],
   "source": [
    "# using dynamic programmin for 0/1 knapsack\n",
    "def dpk(value,weights,Wmax): #obj for rows,wi for columns\n",
    "    profits=np.zeros((len(weights)+1,Wmax+1),int) #create empty 2d array\n",
    "    #print(profits)\n",
    "    for obj in range(len(weights)+1):\n",
    "        for wi in range(Wmax+1):\n",
    "            if obj==0 or wi==0:\n",
    "                profits[obj][wi]=0\n",
    "           \n",
    "            elif weights.loc[obj-1]<=wi:\n",
    "                profits[obj][wi]=max(profits[obj-1][wi],value.loc[obj-1]+profits[obj-1][wi-weights.loc[obj-1]])\n",
    "            else:\n",
    "                profits[obj][wi]=profits[obj-1][wi]\n",
    "                \n",
    "    return profits[len(weights)][Wmax]"
   ]
  },
  {
   "cell_type": "code",
   "execution_count": null,
   "id": "a85c0356",
   "metadata": {},
   "outputs": [],
   "source": []
  }
 ],
 "metadata": {
  "kernelspec": {
   "display_name": "Python 3 (ipykernel)",
   "language": "python",
   "name": "python3"
  },
  "language_info": {
   "codemirror_mode": {
    "name": "ipython",
    "version": 3
   },
   "file_extension": ".py",
   "mimetype": "text/x-python",
   "name": "python",
   "nbconvert_exporter": "python",
   "pygments_lexer": "ipython3",
   "version": "3.9.7"
  }
 },
 "nbformat": 4,
 "nbformat_minor": 5
}
