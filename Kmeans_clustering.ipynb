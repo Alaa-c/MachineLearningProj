{
  "nbformat": 4,
  "nbformat_minor": 0,
  "metadata": {
    "colab": {
      "name": "ML2Kmeans.ipynb",
      "provenance": [],
      "collapsed_sections": [],
      "authorship_tag": "ABX9TyOFXOMSVlZYxq8zJWbAFMgz",
      "include_colab_link": true
    },
    "kernelspec": {
      "name": "python3",
      "display_name": "Python 3"
    },
    "language_info": {
      "name": "python"
    }
  },
  "cells": [
    {
      "cell_type": "markdown",
      "metadata": {
        "id": "view-in-github",
        "colab_type": "text"
      },
      "source": [
        "<a href=\"https://colab.research.google.com/github/Alaa-c/MachineLearningProj/blob/main/ML2Kmeans.ipynb\" target=\"_parent\"><img src=\"https://colab.research.google.com/assets/colab-badge.svg\" alt=\"Open In Colab\"/></a>"
      ]
    },
    {
      "cell_type": "markdown",
      "source": [
        "**Import libraries**\n",
        "\n"
      ],
      "metadata": {
        "id": "qGbjaGvWYJGf"
      }
    },
    {
      "cell_type": "code",
      "execution_count": null,
      "metadata": {
        "id": "tkkZEdG2X5iG"
      },
      "outputs": [],
      "source": [
        "import numpy as np\n",
        "import matplotlib.pyplot as plt\n",
        "from sklearn import datasets\n",
        "from sklearn.preprocessing import StandardScaler\n",
        "import numpy.random as rd\n",
        "from scipy.spatial.distance import cdist\n",
        "\n"
      ]
    },
    {
      "cell_type": "markdown",
      "source": [
        "Read the data from iris"
      ],
      "metadata": {
        "id": "7ffV5C3FZVfQ"
      }
    },
    {
      "cell_type": "code",
      "source": [
        "iris=datasets.load_iris() #load data\n",
        "features=iris.data[:,:2] #get only the first 2 features\n",
        "\n",
        "features.shape\n"
      ],
      "metadata": {
        "colab": {
          "base_uri": "https://localhost:8080/"
        },
        "id": "ZsGIdNzFZcX_",
        "outputId": "099e1855-687e-4679-8dad-5efd2d8239b0"
      },
      "execution_count": null,
      "outputs": [
        {
          "output_type": "execute_result",
          "data": {
            "text/plain": [
              "(150, 2)"
            ]
          },
          "metadata": {},
          "execution_count": 2
        }
      ]
    },
    {
      "cell_type": "markdown",
      "source": [
        "Pre-process the data"
      ],
      "metadata": {
        "id": "aF7sfj8Ocbjj"
      }
    },
    {
      "cell_type": "code",
      "source": [
        "stdn=StandardScaler()\n",
        "data_normalized=stdn.fit_transform(features)"
      ],
      "metadata": {
        "id": "dd-AeCT-cb6z"
      },
      "execution_count": null,
      "outputs": []
    },
    {
      "cell_type": "markdown",
      "source": [
        "Plot the original data"
      ],
      "metadata": {
        "id": "-RsPOuKAbHA3"
      }
    },
    {
      "cell_type": "code",
      "source": [
        "plt.scatter(data_normalized[:,0],data_normalized[:,1])"
      ],
      "metadata": {
        "colab": {
          "base_uri": "https://localhost:8080/",
          "height": 283
        },
        "id": "GqAkwPG5ZX9m",
        "outputId": "9b0be095-7288-4222-d7eb-8de3b5bbb11c"
      },
      "execution_count": null,
      "outputs": [
        {
          "output_type": "execute_result",
          "data": {
            "text/plain": [
              "<matplotlib.collections.PathCollection at 0x7f833abed750>"
            ]
          },
          "metadata": {},
          "execution_count": 4
        },
        {
          "output_type": "display_data",
          "data": {
            "text/plain": [
              "<Figure size 432x288 with 1 Axes>"
            ],
            "image/png": "[encoded data removed]"
          },
          "metadata": {
            "needs_background": "light"
          }
        }
      ]
    },
    {
      "cell_type": "markdown",
      "source": [
        "Choose no of K that gives least distorion"
      ],
      "metadata": {
        "id": "ZVx2D11xd_5V"
      }
    },
    {
      "cell_type": "code",
      "source": [
        "def opt_k_no(data_normalized):\n",
        "  cost=[]\n",
        "  for k in range(2,10):\n",
        "    pts,distor,min_index=kmeans(data_normalized,100,k)\n",
        "    cost.append(distor)\n",
        "  ks=np.arange(2,10)\n",
        "  \n",
        "  plt.xlabel('no of centroids')\n",
        "  plt.ylabel(\"Distortion\")\n",
        "  plt.title('elbow')\n",
        "  plt.scatter(ks,cost)\n",
        "  plt.show()\n",
        "\n",
        "\n",
        "\n",
        "\n",
        "\n"
      ],
      "metadata": {
        "id": "Ey6GHRTSYGE5"
      },
      "execution_count": null,
      "outputs": []
    },
    {
      "cell_type": "markdown",
      "source": [
        "Initialize the centroids randomly"
      ],
      "metadata": {
        "id": "Tg98_UylhEon"
      }
    },
    {
      "cell_type": "code",
      "source": [
        "def init_centroids(x,k,n_iter):\n",
        "  \n",
        "  for i in range(0,n_iter): #loop till u find the best initial centroids\n",
        "    indices=rd.choice(len(x),k,replace=False) #select the item one time only\n",
        "    centroids=x[indices,:]\n",
        "\n",
        "    '''calculate distance between each centroid and samples'''\n",
        "    distances=cdist(x,centroids,'euclidean')\n",
        "\n",
        "    '''choose centroid with min distance to each sample'''\n",
        "    points=np.argmin(distances,axis=1)\n",
        "\n",
        "\n",
        "  return centroids,points\n"
      ],
      "metadata": {
        "id": "71z7QSxQZT1R"
      },
      "execution_count": null,
      "outputs": []
    },
    {
      "cell_type": "markdown",
      "source": [
        "update the centroids"
      ],
      "metadata": {
        "id": "HBVIkXLPoPFj"
      }
    },
    {
      "cell_type": "code",
      "source": [
        "def assign_update(x,points,k,n_iter):\n",
        "  \n",
        "  for i in range(n_iter):\n",
        "    c=[]\n",
        "    temp_prev=[]\n",
        "    cost=0\n",
        "    for indices in range(k):\n",
        "      temp=x[points==indices].mean(axis=0) #update centroids by taking mean of each group  \n",
        "      c.append(temp) # assign samples to centroids\n",
        "\n",
        "     \n",
        "    centroids=np.vstack(c) #concatinate vertically each centroid \n",
        "    \n",
        "    '''calculate distance between each centroid and samples'''\n",
        "    distances=cdist(x,centroids,'euclidean')\n",
        "    \n",
        "    '''choose centroid with min distance to each sample, argmin returns index of min value'''\n",
        "    points=np.argmin(distances,axis=1)\n",
        "\n",
        "    '''calculate distortion'''\n",
        "    for ind in range(k):\n",
        "          cost+=np.sum(np.linalg.norm((x[np.array(points) == ind] - centroids[ind]),axis = 1)**2)/len(x)\n",
        "         \n",
        "    '''check k value for least distortion'''\n",
        "    min_index=np.argmin(cost)\n",
        "    \n",
        "    #check convergence\n",
        "    if np.array_equal(temp,temp_prev):\n",
        "      break\n",
        "    temp_prev=temp\n",
        "  \n",
        "\n",
        "  return points,np.min(cost),min_index\n",
        "  \n",
        "\n"
      ],
      "metadata": {
        "id": "cs2dlWqpZUSu"
      },
      "execution_count": null,
      "outputs": []
    },
    {
      "cell_type": "markdown",
      "source": [
        "Integrate the functions"
      ],
      "metadata": {
        "id": "LLolkAQtttGC"
      }
    },
    {
      "cell_type": "code",
      "source": [
        "def kmeans(x,n_iter,k):\n",
        "  #step1 initialize\n",
        "  c0,points=init_centroids(x,k,n_iter)\n",
        "  #update\n",
        "  retrieved=assign_update(x,points,k,n_iter)\n",
        "  return retrieved"
      ],
      "metadata": {
        "id": "9o2nhHD0ZUga"
      },
      "execution_count": null,
      "outputs": []
    },
    {
      "cell_type": "code",
      "source": [
        "groups,distor,minI=kmeans(data_normalized,100,5)\n",
        "print(groups)"
      ],
      "metadata": {
        "colab": {
          "base_uri": "https://localhost:8080/"
        },
        "id": "p4-DilPSZUkw",
        "outputId": "c0824fb1-a54e-416c-c19e-f9f13adef4f6"
      },
      "execution_count": null,
      "outputs": [
        {
          "output_type": "stream",
          "name": "stdout",
          "text": [
            "[0 3 3 3 0 0 3 3 3 3 0 3 3 3 0 0 0 0 0 0 0 0 0 3 3 3 3 0 3 3 3 0 0 0 3 3 0\n",
            " 0 3 3 0 2 3 0 0 3 0 3 0 3 4 1 4 2 1 1 1 2 1 2 2 1 2 1 1 4 1 2 2 2 1 1 2 1\n",
            " 1 1 1 1 1 2 2 2 2 1 3 1 4 2 1 2 2 1 2 2 2 1 1 1 2 1 1 2 4 1 1 4 2 4 1 4 1\n",
            " 1 4 2 1 1 1 4 4 2 4 2 4 1 4 4 1 1 1 4 4 4 1 1 2 4 1 1 1 4 4 4 2 4 4 1 2 1\n",
            " 1 1]\n"
          ]
        }
      ]
    },
    {
      "cell_type": "markdown",
      "source": [
        "Plot the clusters"
      ],
      "metadata": {
        "id": "vNc3GMqJAS9U"
      }
    },
    {
      "cell_type": "code",
      "source": [
        "plt.scatter(data_normalized[:,0],data_normalized[:,1],c=groups)"
      ],
      "metadata": {
        "colab": {
          "base_uri": "https://localhost:8080/",
          "height": 283
        },
        "id": "US1LSGO105r6",
        "outputId": "d67f8941-2e2b-4299-f3cf-acccb30d09fb"
      },
      "execution_count": null,
      "outputs": [
        {
          "output_type": "execute_result",
          "data": {
            "text/plain": [
              "<matplotlib.collections.PathCollection at 0x7f833abed490>"
            ]
          },
          "metadata": {},
          "execution_count": 10
        },
        {
          "output_type": "display_data",
          "data": {
            "text/plain": [
              "<Figure size 432x288 with 1 Axes>"
            ],
            "image/png": "[encoded data removed]"
          },
          "metadata": {
            "needs_background": "light"
          }
        }
      ]
    },
    {
      "cell_type": "markdown",
      "source": [
        "Call the function of optimized 'K'/Plot elbow"
      ],
      "metadata": {
        "id": "4e_U9jXvAXG5"
      }
    },
    {
      "cell_type": "code",
      "source": [
        "opt_k_no(data_normalized)"
      ],
      "metadata": {
        "colab": {
          "base_uri": "https://localhost:8080/",
          "height": 295
        },
        "id": "vf9jsoYS4BVi",
        "outputId": "8984647a-7367-443d-ef94-f37b7dda0c3c"
      },
      "execution_count": null,
      "outputs": [
        {
          "output_type": "display_data",
          "data": {
            "text/plain": [
              "<Figure size 432x288 with 1 Axes>"
            ],
            "image/png": "[encoded data removed]"
          },
          "metadata": {
            "needs_background": "light"
          }
        }
      ]
    },
    {
      "cell_type": "code",
      "source": [
        ""
      ],
      "metadata": {
        "id": "07lqOZttVLDW"
      },
      "execution_count": null,
      "outputs": []
    }
  ]
}
